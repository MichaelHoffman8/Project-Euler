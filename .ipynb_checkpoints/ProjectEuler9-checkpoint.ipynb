{
 "cells": [
  {
   "cell_type": "code",
   "execution_count": 45,
   "id": "47606ff1-6ea1-426c-b6b0-7517ec26d57d",
   "metadata": {},
   "outputs": [],
   "source": [
    "# Special Pythagorean Triplet\n",
    "\n",
    "#Task: There exists exactly one pythagorean triplet such that a+b+c = 1000 and a^2 + b^2 = c^2. Find product abc\n",
    "\n",
    "def Is_square(n): #Function to tell if a number is a perfect square\n",
    "    sqrt = n^(1/2)\n",
    "    flor = floor(sqrt)\n",
    "    cel = ceil(sqrt)\n",
    "    if flor == cel:\n",
    "        return True\n",
    "    elif flor != cel:\n",
    "        return False\n",
    "\n",
    "def Is_Triplet(a,b,c): #Function to determine if a set is a pythagorean triplet (0<a<b<c)\n",
    "    if a^2 + b^2 == c^2:\n",
    "        return True\n",
    "    if a^2 + b^2 != c^2:\n",
    "        return False\n",
    "\n",
    "def Triplets(sum_val): #Function to find all pythagorean triplets with a+b+c = n\n",
    "    L =[]\n",
    "    for j in range(1,floor(sum_val/2)+1):\n",
    "        for i in range(1,j+1):\n",
    "            Sign = Is_square(i^2+j^2)\n",
    "            if i+j+(i^2+j^2)^(1/2) == sum_val:\n",
    "                L.append([i,j,(i^2+j^2)^(1/2)])\n",
    "    return L\n"
   ]
  },
  {
   "cell_type": "code",
   "execution_count": 46,
   "id": "e0a7f06b-6712-49fe-bb0b-aa93ec70e334",
   "metadata": {},
   "outputs": [
    {
     "data": {
      "text/plain": [
       "[[200, 375, 425]]"
      ]
     },
     "execution_count": 46,
     "metadata": {},
     "output_type": "execute_result"
    }
   ],
   "source": [
    "Triplets(1000)"
   ]
  },
  {
   "cell_type": "code",
   "execution_count": 50,
   "id": "d7ebc651-ce33-402b-8f0e-43cf139344aa",
   "metadata": {},
   "outputs": [
    {
     "data": {
      "text/plain": [
       "31875000"
      ]
     },
     "execution_count": 50,
     "metadata": {},
     "output_type": "execute_result"
    }
   ],
   "source": [
    "200*375*425"
   ]
  },
  {
   "cell_type": "code",
   "execution_count": null,
   "id": "a5bc19fa-2db8-4aaf-a816-7669539262ed",
   "metadata": {},
   "outputs": [],
   "source": []
  }
 ],
 "metadata": {
  "kernelspec": {
   "display_name": "SageMath 10.5",
   "language": "sage",
   "name": "sagemath-10.5"
  },
  "language_info": {
   "codemirror_mode": {
    "name": "ipython",
    "version": 3
   },
   "file_extension": ".py",
   "mimetype": "text/x-python",
   "name": "python",
   "nbconvert_exporter": "python",
   "pygments_lexer": "ipython3",
   "version": "3.12.5"
  }
 },
 "nbformat": 4,
 "nbformat_minor": 5
}
