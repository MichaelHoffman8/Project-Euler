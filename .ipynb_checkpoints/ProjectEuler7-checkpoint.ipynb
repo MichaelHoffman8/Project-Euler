{
 "cells": [
  {
   "cell_type": "code",
   "execution_count": 41,
   "id": "22af571a-6582-4a70-86e1-25cdbbdd9ff3",
   "metadata": {},
   "outputs": [],
   "source": [
    "# 10,001st Prime\n",
    "\n",
    "#Task: Find the 10,001st prime number\n",
    "\n",
    "def Prime_num(n): #Function to find primes below a certain value, using Sieve of Eratosthenes\n",
    "    P = [2]\n",
    "    k=3\n",
    "    while len(P)<n:\n",
    "        Sign = False\n",
    "        for i in P:\n",
    "            if k%i ==0:\n",
    "                Sign = True\n",
    "        if Sign == False:\n",
    "            P.append(k)\n",
    "        k+=1\n",
    "    return P[-1]\n",
    "\n"
   ]
  },
  {
   "cell_type": "code",
   "execution_count": 42,
   "id": "c2e84c8c-4bd8-4cfc-9bdc-f0beebc18d5f",
   "metadata": {},
   "outputs": [
    {
     "data": {
      "text/plain": [
       "104743"
      ]
     },
     "execution_count": 42,
     "metadata": {},
     "output_type": "execute_result"
    }
   ],
   "source": [
    "Prime_num(10001)"
   ]
  },
  {
   "cell_type": "code",
   "execution_count": null,
   "id": "332afda1-d12a-4d3f-8cc3-3cee7a2338cb",
   "metadata": {},
   "outputs": [],
   "source": []
  }
 ],
 "metadata": {
  "kernelspec": {
   "display_name": "SageMath 10.5",
   "language": "sage",
   "name": "sagemath-10.5"
  },
  "language_info": {
   "codemirror_mode": {
    "name": "ipython",
    "version": 3
   },
   "file_extension": ".py",
   "mimetype": "text/x-python",
   "name": "python",
   "nbconvert_exporter": "python",
   "pygments_lexer": "ipython3",
   "version": "3.12.5"
  }
 },
 "nbformat": 4,
 "nbformat_minor": 5
}
