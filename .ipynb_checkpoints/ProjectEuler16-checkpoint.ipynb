{
 "cells": [
  {
   "cell_type": "code",
   "execution_count": 39,
   "id": "cb097f26-a700-4fc2-858f-1d7b0b864bec",
   "metadata": {},
   "outputs": [],
   "source": [
    "# Power Digit Sum\n",
    "\n",
    "# Could just do .digits() and then sum of the items in the list but that feels cheap\n",
    "sum((2^(1000)).digits())\n",
    "\n",
    "\n",
    "# Try to think of another way\n",
    "\n",
    "def numdigs(n): #Function to determine number of digits of a number\n",
    "    k=1\n",
    "    while n >10:\n",
    "        n = n//10\n",
    "        k+=1\n",
    "    return k\n",
    "\n",
    "def digslist(n): #Function to determine number of digits, sum of digits, and list of digits\n",
    "    k=0\n",
    "    L=[]\n",
    "    while n>0:\n",
    "        m = (n%10)\n",
    "        L.append(m)\n",
    "        n = n//10\n",
    "        k+=1\n",
    "    return (k,sum(L), L[::-1])"
   ]
  },
  {
   "cell_type": "code",
   "execution_count": 38,
   "id": "41bbb321-a7fa-4de7-8c15-f09963f68a8a",
   "metadata": {},
   "outputs": [
    {
     "data": {
      "text/plain": [
       "(302, 1366)"
      ]
     },
     "execution_count": 38,
     "metadata": {},
     "output_type": "execute_result"
    }
   ],
   "source": [
    "digslist(2^(1000))"
   ]
  },
  {
   "cell_type": "code",
   "execution_count": null,
   "id": "76fb524f-a41a-40e7-abd2-243104f3650f",
   "metadata": {},
   "outputs": [],
   "source": []
  }
 ],
 "metadata": {
  "kernelspec": {
   "display_name": "SageMath 10.5",
   "language": "sage",
   "name": "sagemath-10.5"
  },
  "language_info": {
   "codemirror_mode": {
    "name": "ipython",
    "version": 3
   },
   "file_extension": ".py",
   "mimetype": "text/x-python",
   "name": "python",
   "nbconvert_exporter": "python",
   "pygments_lexer": "ipython3",
   "version": "3.12.5"
  }
 },
 "nbformat": 4,
 "nbformat_minor": 5
}
