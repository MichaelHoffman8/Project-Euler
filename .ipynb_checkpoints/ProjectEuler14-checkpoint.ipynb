{
 "cells": [
  {
   "cell_type": "code",
   "execution_count": 23,
   "id": "20ef247d-d872-4630-a0c5-7739151e3661",
   "metadata": {},
   "outputs": [],
   "source": [
    "# Longest Collatz Sequence\n",
    "\n",
    "def len_collatz(n):\n",
    "    \n",
    "\n",
    "    L=[]\n",
    "    def collatz(n):\n",
    "        if n == 1:\n",
    "            L.append(1)\n",
    "            return L\n",
    "        if n%2 ==0:\n",
    "            L.append(n)\n",
    "            return collatz(n/2)\n",
    "        else:\n",
    "            L.append(n)\n",
    "            return collatz(3*n+1)\n",
    "    return len(collatz(n))\n",
    "\n",
    "def longest(m):\n",
    "    max_index = 1\n",
    "    Max = 0\n",
    "    for i in [1..m]:\n",
    "        if len_collatz(i) > Max:\n",
    "            Max = len_collatz(i)\n",
    "            max_index = i\n",
    "    return (max_index, Max)\n",
    "    "
   ]
  },
  {
   "cell_type": "code",
   "execution_count": 24,
   "id": "3c994221-5e00-43ca-acab-296f9e4e642e",
   "metadata": {},
   "outputs": [
    {
     "data": {
      "text/plain": [
       "(837799, 525)"
      ]
     },
     "execution_count": 24,
     "metadata": {},
     "output_type": "execute_result"
    }
   ],
   "source": [
    "longest(10^6)"
   ]
  },
  {
   "cell_type": "code",
   "execution_count": null,
   "id": "36094ce6-b78b-4a70-8ac6-f26d8c7d1385",
   "metadata": {},
   "outputs": [],
   "source": []
  }
 ],
 "metadata": {
  "kernelspec": {
   "display_name": "SageMath 10.5",
   "language": "sage",
   "name": "sagemath-10.5"
  },
  "language_info": {
   "codemirror_mode": {
    "name": "ipython",
    "version": 3
   },
   "file_extension": ".py",
   "mimetype": "text/x-python",
   "name": "python",
   "nbconvert_exporter": "python",
   "pygments_lexer": "ipython3",
   "version": "3.12.5"
  }
 },
 "nbformat": 4,
 "nbformat_minor": 5
}
