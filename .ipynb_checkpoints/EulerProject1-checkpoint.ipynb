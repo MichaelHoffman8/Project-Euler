{
 "cells": [
  {
   "cell_type": "code",
   "execution_count": 44,
   "id": "78b346da-5af7-4a51-86fc-d61a5f20acfb",
   "metadata": {},
   "outputs": [
    {
     "name": "stdout",
     "output_type": "stream",
     "text": [
      "233168\n"
     ]
    }
   ],
   "source": [
    "# Multiples of 3 or 5\n",
    "\n",
    "Drei = 0\n",
    "Funf = 0\n",
    "Funfzehn = 0\n",
    "for j in range(334): #334 is optimal stopping time since 3(334) > 1000, and 3<5<15\n",
    "    if (3*j) < 1000:\n",
    "        Drei += 3*j\n",
    "    if (5*j) < 1000:\n",
    "        Funf += 5*j\n",
    "    if (15*j) <1000:\n",
    "        Funfzehn += 15*j\n",
    "\n",
    "Total = Drei + Funf - Funfzehn\n",
    "\n",
    "print(Total)\n",
    "\n"
   ]
  },
  {
   "cell_type": "code",
   "execution_count": null,
   "id": "be874e55-326a-4425-af5d-623b87062465",
   "metadata": {},
   "outputs": [],
   "source": []
  }
 ],
 "metadata": {
  "kernelspec": {
   "display_name": "SageMath 10.5",
   "language": "sage",
   "name": "sagemath-10.5"
  },
  "language_info": {
   "codemirror_mode": {
    "name": "ipython",
    "version": 3
   },
   "file_extension": ".py",
   "mimetype": "text/x-python",
   "name": "python",
   "nbconvert_exporter": "python",
   "pygments_lexer": "ipython3",
   "version": "3.12.5"
  }
 },
 "nbformat": 4,
 "nbformat_minor": 5
}
