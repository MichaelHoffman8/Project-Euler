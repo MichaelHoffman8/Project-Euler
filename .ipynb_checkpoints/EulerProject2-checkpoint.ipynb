{
 "cells": [
  {
   "cell_type": "code",
   "execution_count": 45,
   "id": "fb41ae40-e5b5-4bea-8e03-9109bf1307a8",
   "metadata": {},
   "outputs": [
    {
     "name": "stdout",
     "output_type": "stream",
     "text": [
      "4613732\n"
     ]
    }
   ],
   "source": [
    "# Even Fibonacci Numbers\n",
    "\n",
    "#First Fibonacci Numbers\n",
    "# 1,2,3,5,8,13,21,34,55,89,144\n",
    "#Note the pattern, odd, even, odd, odd, even, odd, odd, even...\n",
    "# In this sense, we want the sum of terms 2,5,8,11,... all of which are 2 mod 3\n",
    "\n",
    "def fib(n): #Function yields the n-th fibonacci number\n",
    "    if n == 1:\n",
    "        return 1\n",
    "    elif n == 2:\n",
    "        return 2\n",
    "    else:\n",
    "        return fib(n-1) + fib(n-2)\n",
    "\n",
    "#How to determine when to stop adding? Which fibonacci number is less than 4 million?\n",
    "j = 1\n",
    "while True:\n",
    "    if fib(j) > 4000000:\n",
    "        unter = (j-1)\n",
    "        break\n",
    "    j +=1\n",
    "\n",
    "#Determined that fib(32) <4*10^6, and fib(33)> 4*10^6\n",
    "\n",
    "Summe = 0\n",
    "for i in range(33):\n",
    "    if (i % 3) == 2:    \n",
    "        Summe += fib(i)\n",
    "\n",
    "print(Summe)"
   ]
  },
  {
   "cell_type": "code",
   "execution_count": null,
   "id": "190ca8e7-f499-4901-a614-19b3c205793e",
   "metadata": {},
   "outputs": [],
   "source": []
  }
 ],
 "metadata": {
  "kernelspec": {
   "display_name": "SageMath 10.5",
   "language": "sage",
   "name": "sagemath-10.5"
  },
  "language_info": {
   "codemirror_mode": {
    "name": "ipython",
    "version": 3
   },
   "file_extension": ".py",
   "mimetype": "text/x-python",
   "name": "python",
   "nbconvert_exporter": "python",
   "pygments_lexer": "ipython3",
   "version": "3.12.5"
  }
 },
 "nbformat": 4,
 "nbformat_minor": 5
}
