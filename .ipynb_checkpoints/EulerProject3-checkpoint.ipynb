{
 "cells": [
  {
   "cell_type": "code",
   "execution_count": 71,
   "id": "ab9bc787-c6bb-4d89-8c63-e27af167e627",
   "metadata": {},
   "outputs": [],
   "source": [
    "# Largest Prime Factor\n",
    "\n",
    "#Task: Find largest prime factor of 600851475143\n",
    "\n",
    "# Could use sage built in factor function but that is cheating\n",
    "A = 600851475143\n",
    "\n",
    "def fact(N):\n",
    "    L =[]\n",
    "    for j in [1..2000000]:\n",
    "        if j.is_prime() == True:\n",
    "            k =1\n",
    "            if (N%j) ==0:\n",
    "                S=[]\n",
    "                while (N%j^k) ==0:\n",
    "                    S.append(k)\n",
    "                    k+=1\n",
    "                m = max(S)\n",
    "                L.append((j,m))\n",
    "        if j >N^2:\n",
    "            break\n",
    "    return(L)"
   ]
  },
  {
   "cell_type": "code",
   "execution_count": 72,
   "id": "b2c5d95f-a997-4c04-8afb-5521bf8bb4cb",
   "metadata": {},
   "outputs": [
    {
     "data": {
      "text/plain": [
       "[(71, 1), (839, 1), (1471, 1), (6857, 1)]"
      ]
     },
     "execution_count": 72,
     "metadata": {},
     "output_type": "execute_result"
    }
   ],
   "source": [
    "fact(600851475143)"
   ]
  },
  {
   "cell_type": "code",
   "execution_count": null,
   "id": "eec24a57-446f-4c07-afd1-53e5afff17b7",
   "metadata": {},
   "outputs": [],
   "source": []
  },
  {
   "cell_type": "code",
   "execution_count": null,
   "id": "f826f217-1b68-4fd1-b088-e0e008ff4bdf",
   "metadata": {},
   "outputs": [],
   "source": []
  }
 ],
 "metadata": {
  "kernelspec": {
   "display_name": "SageMath 10.5",
   "language": "sage",
   "name": "sagemath-10.5"
  },
  "language_info": {
   "codemirror_mode": {
    "name": "ipython",
    "version": 3
   },
   "file_extension": ".py",
   "mimetype": "text/x-python",
   "name": "python",
   "nbconvert_exporter": "python",
   "pygments_lexer": "ipython3",
   "version": "3.12.5"
  }
 },
 "nbformat": 4,
 "nbformat_minor": 5
}
