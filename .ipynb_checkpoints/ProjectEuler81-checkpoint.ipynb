{
 "cells": [
  {
   "cell_type": "code",
   "execution_count": 141,
   "id": "398d1bfc-6e89-4953-9419-1557b486e2be",
   "metadata": {},
   "outputs": [],
   "source": [
    "# Path Sum: Two Ways\n",
    "\n",
    "# Find the minimal path sum from the top left to the bottom right of the matrix by only moving right and down\n",
    "\n",
    "file_path = 'ProjectEuler81_matrix.txt'\n",
    "\n",
    "matrix=[]\n",
    "with open(file_path, 'r') as matrix_list:\n",
    "    Lines = []\n",
    "    for line in matrix_list:\n",
    "        Lines.append(line.strip())\n",
    "\n",
    "    for line in Lines:\n",
    "        row = [int(x) for x in line.split(',')]\n",
    "        matrix.append(row)\n",
    "\n",
    "#Have now successfully taken the data and made it into a nested list\n",
    "\n",
    "def Paths(mat): #Return all possible paths through the matrix using only right and down movements\n",
    "    rows = len(mat)\n",
    "    cols = len(mat[0])\n",
    "    Paths_list =[]\n",
    "    \n",
    "    # Might need recursion\n",
    "    \n",
    "    "
   ]
  },
  {
   "cell_type": "code",
   "execution_count": null,
   "id": "709aba38-ebde-418f-ad99-cf05c8abcfa1",
   "metadata": {},
   "outputs": [],
   "source": []
  },
  {
   "cell_type": "code",
   "execution_count": null,
   "id": "8cd5e21c-0007-441d-8577-aa9c5e554e23",
   "metadata": {},
   "outputs": [],
   "source": []
  }
 ],
 "metadata": {
  "kernelspec": {
   "display_name": "SageMath 10.5",
   "language": "sage",
   "name": "sagemath-10.5"
  },
  "language_info": {
   "codemirror_mode": {
    "name": "ipython",
    "version": 3
   },
   "file_extension": ".py",
   "mimetype": "text/x-python",
   "name": "python",
   "nbconvert_exporter": "python",
   "pygments_lexer": "ipython3",
   "version": "3.12.5"
  }
 },
 "nbformat": 4,
 "nbformat_minor": 5
}
