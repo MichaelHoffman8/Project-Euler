{
 "cells": [
  {
   "cell_type": "code",
   "execution_count": 36,
   "id": "d2c193a3-ef46-45b1-98a7-65222e2d8307",
   "metadata": {},
   "outputs": [
    {
     "name": "stdout",
     "output_type": "stream",
     "text": [
      "232792560 True\n"
     ]
    }
   ],
   "source": [
    "# Smallest Multiple\n",
    "\n",
    "#Using my factorization calculator from question 3\n",
    "def fact(N):\n",
    "    L =[]\n",
    "    for j in [1..1000000]:\n",
    "        if j.is_prime() == True:\n",
    "            k =1\n",
    "            if (N%j) ==0:\n",
    "                S=[]\n",
    "                while (N%j^k) ==0:\n",
    "                    S.append(k)\n",
    "                    k+=1\n",
    "                m = max(S)\n",
    "                L.append((j,m))\n",
    "        if j >N^2:\n",
    "            break\n",
    "    return(L)\n",
    "\n",
    "L=list(range(1,21))\n",
    "F = fact(prod(L))\n",
    "\n",
    "def twentyfacts(n): #Function to determine if a number is factorable by all of [1..20]\n",
    "    L = []\n",
    "    for j in range(1,21):\n",
    "        if n%j == 0:\n",
    "            L.append(True)\n",
    "        if all(L) == True:\n",
    "            return True\n",
    "\n",
    "E = []\n",
    "for item in F:\n",
    "    if item[1] == 1:\n",
    "        E.append(item[0])\n",
    "    else:\n",
    "        num = item[0]\n",
    "        power = item[1]\n",
    "        while num^power > 20:\n",
    "            power -= 1\n",
    "        E.append(num^power)\n",
    "\n",
    "Product = prod(E)\n",
    "\n",
    "# sanity check\n",
    "print(Product,twentyfacts(Product))\n",
    "    "
   ]
  },
  {
   "cell_type": "code",
   "execution_count": null,
   "id": "34416ad7-f50f-47b5-8428-251574d3d556",
   "metadata": {},
   "outputs": [],
   "source": []
  }
 ],
 "metadata": {
  "kernelspec": {
   "display_name": "SageMath 10.5",
   "language": "sage",
   "name": "sagemath-10.5"
  },
  "language_info": {
   "codemirror_mode": {
    "name": "ipython",
    "version": 3
   },
   "file_extension": ".py",
   "mimetype": "text/x-python",
   "name": "python",
   "nbconvert_exporter": "python",
   "pygments_lexer": "ipython3",
   "version": "3.12.5"
  }
 },
 "nbformat": 4,
 "nbformat_minor": 5
}
