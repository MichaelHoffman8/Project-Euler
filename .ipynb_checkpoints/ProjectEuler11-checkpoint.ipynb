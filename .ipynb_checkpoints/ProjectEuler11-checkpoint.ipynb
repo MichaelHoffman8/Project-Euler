{
 "cells": [
  {
   "cell_type": "code",
   "execution_count": 24,
   "id": "6fe60974-d127-4844-b345-3503621d2aff",
   "metadata": {},
   "outputs": [],
   "source": [
    "# Largest Product in a Grid\n",
    "\n",
    "# Task: Determine the greatest product of 4 adjacent numbers in the grid\n",
    "\n",
    "file_path = 'ProjectEuler12.txt'\n",
    "\n",
    "matrix=[]\n",
    "with open(file_path, 'r') as matrix_list:\n",
    "    Lines = []\n",
    "    for line in matrix_list:\n",
    "        Lines.append(line.strip())\n",
    "\n",
    "    for line in Lines:\n",
    "        row = [Integer(x) for x in line.split(' ')]\n",
    "        matrix.append(row)\n",
    "\n",
    "# Successfully processed the grid into a 20x20 nested list\n",
    "\n",
    "def maxprod(mat):\n",
    "    r = len(mat)\n",
    "    s = len(mat[0])\n",
    "    Products = []\n",
    "    for i in [0..(r-1)]:\n",
    "        for j in [0..(s-1)]:\n",
    "\n",
    "        #Given matrix[i][j], want to compute all possible adjacencies and then find the products and record them.\n",
    "\n",
    "        # Lefts:\n",
    "            if j >= 3:\n",
    "                P = mat[i][j] * mat[i][j-1] * mat[i][j-2] * mat[i][j-3]\n",
    "                Products.append(P)\n",
    "        # Rights:\n",
    "            if j <= 16:\n",
    "                P = mat[i][j] * mat[i][j+1] * mat[i][j+2]* mat[i][j+3]\n",
    "                Products.append(P)\n",
    "        # Ups:\n",
    "            if i >= 3:\n",
    "                P = mat[i][j] * mat[i-1][j] * mat[i-2][j] * mat[i-3][j]\n",
    "                Products.append(P)\n",
    "        #Downs:\n",
    "            if i <= 16:\n",
    "                P = mat[i][j] * mat[i+1][j] * mat[i+2][j] * mat[i+3][j]\n",
    "                Products.append(P)\n",
    "        # Positive Diagonal Upper\n",
    "            if i >=3 and j <=16:\n",
    "                P = mat[i][j] * mat[i-1][j+1] * mat[i-2][j+2] * mat[i-3][j+3]\n",
    "                Products.append(P)\n",
    "        # Positive Diagonal Lower\n",
    "            if i<=16 and j>=3:\n",
    "                P = mat[i][j] * mat[i+1][j-1] * mat[i+2][j-2] * mat[i+3][j-3]\n",
    "                Products.append(P)\n",
    "        # Negative Diagonal Upper\n",
    "            if i>=3 and j>=3:\n",
    "                P = mat[i][j] * mat[i-1][j-1] * mat[i-2][j-2] * mat[i-3][j-3]\n",
    "                Products.append(P)\n",
    "        # Negative Diagonal Lower\n",
    "            if i <= 16 and j <=16:\n",
    "                P = mat[i][j] * mat[i+1][j+1] * mat[i+2][j+2] * mat[i+3][j+3]\n",
    "                Products.append(P)\n",
    "                \n",
    "    return max(Products)"
   ]
  },
  {
   "cell_type": "code",
   "execution_count": 25,
   "id": "94b077ca-a3bf-4343-b3d0-bb7ac67aad10",
   "metadata": {},
   "outputs": [
    {
     "data": {
      "text/plain": [
       "70600674"
      ]
     },
     "execution_count": 25,
     "metadata": {},
     "output_type": "execute_result"
    }
   ],
   "source": [
    "maxprod(matrix)"
   ]
  },
  {
   "cell_type": "code",
   "execution_count": null,
   "id": "a2279d9e-7ca8-4210-8e35-6e3f8b5b4c30",
   "metadata": {},
   "outputs": [],
   "source": []
  }
 ],
 "metadata": {
  "kernelspec": {
   "display_name": "SageMath 10.5",
   "language": "sage",
   "name": "sagemath-10.5"
  },
  "language_info": {
   "codemirror_mode": {
    "name": "ipython",
    "version": 3
   },
   "file_extension": ".py",
   "mimetype": "text/x-python",
   "name": "python",
   "nbconvert_exporter": "python",
   "pygments_lexer": "ipython3",
   "version": "3.12.5"
  }
 },
 "nbformat": 4,
 "nbformat_minor": 5
}
