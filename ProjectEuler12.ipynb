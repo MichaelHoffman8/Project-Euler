{
 "cells": [
  {
   "cell_type": "code",
   "execution_count": 70,
   "id": "8104d611-8f82-4f54-8ded-aee9df098c0c",
   "metadata": {},
   "outputs": [],
   "source": [
    "# Highly Divisible Triangular Number\n",
    "\n",
    "def factors(n): #Function to list all divisors of a number n\n",
    "    D = []\n",
    "    for i in [1..(n^(1/2))]:\n",
    "        if mod(n,i)== 0:\n",
    "            if i^2 == n:\n",
    "                D.append(i)\n",
    "            else:\n",
    "                D.append(i)\n",
    "                D.append(n/i)\n",
    "    return len(D)\n",
    "\n",
    "def trianglenum(n): #Function to output the nth triangle number\n",
    "    S=0\n",
    "    for i in [1..n]:\n",
    "        S+=i\n",
    "    return S\n",
    "\n",
    "def trianglenumfacts(n): #Function to output number of factors of the nth triangle number\n",
    "    return len(divisors(trianglenum(n))) #Had to use Sage built in divisors calculator because mine was too slow :(\n",
    "\n",
    "def divisors_cap(n): #Function to find triangle number with divisors greater than n\n",
    "    k=1\n",
    "    while trianglenumfacts(k) <= n:\n",
    "        k+=1\n",
    "    return k"
   ]
  },
  {
   "cell_type": "code",
   "execution_count": 71,
   "id": "3d9a31c7-3911-4bdc-8f4e-50ec01b3ada8",
   "metadata": {},
   "outputs": [
    {
     "data": {
      "text/plain": [
       "12375"
      ]
     },
     "execution_count": 71,
     "metadata": {},
     "output_type": "execute_result"
    }
   ],
   "source": [
    "divisors_cap(500)"
   ]
  },
  {
   "cell_type": "code",
   "execution_count": 69,
   "id": "f121ca47-6b81-46c9-a965-956cc1977d7c",
   "metadata": {},
   "outputs": [
    {
     "data": {
      "text/plain": [
       "76576500"
      ]
     },
     "execution_count": 69,
     "metadata": {},
     "output_type": "execute_result"
    }
   ],
   "source": [
    "trianglenum(12375)"
   ]
  },
  {
   "cell_type": "code",
   "execution_count": null,
   "id": "58ffc2d5-1fe4-4b64-8357-a8e8bb941f42",
   "metadata": {},
   "outputs": [],
   "source": []
  },
  {
   "cell_type": "code",
   "execution_count": null,
   "id": "8ddbe987-2317-4120-b3ac-25b224d57ef2",
   "metadata": {},
   "outputs": [],
   "source": []
  },
  {
   "cell_type": "code",
   "execution_count": null,
   "id": "35f3bc6b-b52a-45e8-9249-ac62d962300a",
   "metadata": {},
   "outputs": [],
   "source": []
  },
  {
   "cell_type": "code",
   "execution_count": null,
   "id": "be316970-93df-4a73-9800-c47951dd4e18",
   "metadata": {},
   "outputs": [],
   "source": []
  }
 ],
 "metadata": {
  "kernelspec": {
   "display_name": "SageMath 10.5",
   "language": "sage",
   "name": "sagemath-10.5"
  },
  "language_info": {
   "codemirror_mode": {
    "name": "ipython",
    "version": 3
   },
   "file_extension": ".py",
   "mimetype": "text/x-python",
   "name": "python",
   "nbconvert_exporter": "python",
   "pygments_lexer": "ipython3",
   "version": "3.12.5"
  }
 },
 "nbformat": 4,
 "nbformat_minor": 5
}
