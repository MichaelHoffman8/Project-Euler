{
 "cells": [
  {
   "cell_type": "code",
   "execution_count": 3,
   "id": "63d5f20b-610e-4834-be0f-1edc114fb820",
   "metadata": {},
   "outputs": [],
   "source": [
    "# Sum Square Difference\n",
    "\n",
    "def sum_square(n):\n",
    "    S=0; K=0;\n",
    "    for i in range(1,n+1):\n",
    "        S += i^2\n",
    "        K += i\n",
    "\n",
    "    Diff = K^2 - S\n",
    "    return Diff"
   ]
  },
  {
   "cell_type": "code",
   "execution_count": 5,
   "id": "14845f8e-ed6c-4cbe-8cde-8b49d0f2c316",
   "metadata": {},
   "outputs": [
    {
     "data": {
      "text/plain": [
       "25164150"
      ]
     },
     "execution_count": 5,
     "metadata": {},
     "output_type": "execute_result"
    }
   ],
   "source": [
    "sum_square(100)"
   ]
  },
  {
   "cell_type": "code",
   "execution_count": null,
   "id": "18076a43-c3ad-4134-bf7b-949c51c85fba",
   "metadata": {},
   "outputs": [],
   "source": []
  }
 ],
 "metadata": {
  "kernelspec": {
   "display_name": "SageMath 10.5",
   "language": "sage",
   "name": "sagemath-10.5"
  },
  "language_info": {
   "codemirror_mode": {
    "name": "ipython",
    "version": 3
   },
   "file_extension": ".py",
   "mimetype": "text/x-python",
   "name": "python",
   "nbconvert_exporter": "python",
   "pygments_lexer": "ipython3",
   "version": "3.12.5"
  }
 },
 "nbformat": 4,
 "nbformat_minor": 5
}
