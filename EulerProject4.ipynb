{
 "cells": [
  {
   "cell_type": "code",
   "execution_count": 137,
   "id": "015dafad-d463-48fb-bfa7-2cb3cbde6435",
   "metadata": {},
   "outputs": [
    {
     "name": "stdout",
     "output_type": "stream",
     "text": [
      "[906609]\n"
     ]
    }
   ],
   "source": [
    "# Largest Palindrome Product\n",
    "\n",
    "# Task: Find the largest palindrome made from the product of two three-digit numbers\n",
    "\n",
    "Uber = 999*999 #Upper limit\n",
    "\n",
    "def palcheck(n): #Function to check if a number is a palindrome number\n",
    "    L = n.digits()\n",
    "    L_backwards = L[::-1]\n",
    "    if L_backwards == L:\n",
    "        return True\n",
    "    else:\n",
    "        return False\n",
    "\n",
    "def DreiProd(n): #Function to check if a number is a product of two three digit numbers\n",
    "    for i in [100..999]:\n",
    "        if n%i ==0:\n",
    "            j = n/i\n",
    "            if 100<= j<= 999:\n",
    "                return True\n",
    "\n",
    "S=[]\n",
    "for j in range(1,100000):\n",
    "    F = Uber-j \n",
    "    if palcheck(F)== True: #Start from the top and go down\n",
    "        if DreiProd(F) == True:\n",
    "            S.append(F)\n",
    "print(S)\n"
   ]
  },
  {
   "cell_type": "code",
   "execution_count": null,
   "id": "30467352-2b84-4bba-a59b-270770f69550",
   "metadata": {},
   "outputs": [],
   "source": []
  },
  {
   "cell_type": "code",
   "execution_count": null,
   "id": "5e6dab42-bb73-4639-b1e6-bb434b61af01",
   "metadata": {},
   "outputs": [],
   "source": []
  },
  {
   "cell_type": "code",
   "execution_count": null,
   "id": "f8a0982b-5132-43fb-bd9e-1fb56f874bb2",
   "metadata": {},
   "outputs": [],
   "source": []
  },
  {
   "cell_type": "code",
   "execution_count": null,
   "id": "af0adc3c-715b-45e7-9309-fc8e9f603194",
   "metadata": {},
   "outputs": [],
   "source": []
  },
  {
   "cell_type": "code",
   "execution_count": null,
   "id": "2659ee63-aaf6-4e98-8dd5-5c23e19cda3a",
   "metadata": {},
   "outputs": [],
   "source": []
  }
 ],
 "metadata": {
  "kernelspec": {
   "display_name": "SageMath 10.5",
   "language": "sage",
   "name": "sagemath-10.5"
  },
  "language_info": {
   "codemirror_mode": {
    "name": "ipython",
    "version": 3
   },
   "file_extension": ".py",
   "mimetype": "text/x-python",
   "name": "python",
   "nbconvert_exporter": "python",
   "pygments_lexer": "ipython3",
   "version": "3.12.5"
  }
 },
 "nbformat": 4,
 "nbformat_minor": 5
}
