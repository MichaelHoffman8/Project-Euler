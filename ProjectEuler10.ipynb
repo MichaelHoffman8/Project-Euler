{
 "cells": [
  {
   "cell_type": "code",
   "execution_count": 11,
   "id": "1734acb3-3e57-4fed-8437-851333b6d612",
   "metadata": {},
   "outputs": [],
   "source": [
    "# Summation of Primes\n",
    "\n",
    "# Task: Find the sum of all primes below 2 million\n",
    "\n",
    "# Need an efficient prime number checking method\n",
    "def prime_sum(n):\n",
    "    S=0\n",
    "    for i in [1..n]:\n",
    "        if i.is_prime() == True:\n",
    "            S+= i\n",
    "    return S\n"
   ]
  },
  {
   "cell_type": "code",
   "execution_count": 12,
   "id": "b9c8cd34-0b26-4771-810f-f89dd1c5f58b",
   "metadata": {},
   "outputs": [
    {
     "data": {
      "text/plain": [
       "142913828922"
      ]
     },
     "execution_count": 12,
     "metadata": {},
     "output_type": "execute_result"
    }
   ],
   "source": [
    "prime_sum(2*10^6)"
   ]
  },
  {
   "cell_type": "code",
   "execution_count": null,
   "id": "215db4c5-b70f-42f1-bf20-2db7848149c6",
   "metadata": {},
   "outputs": [],
   "source": []
  }
 ],
 "metadata": {
  "kernelspec": {
   "display_name": "SageMath 10.5",
   "language": "sage",
   "name": "sagemath-10.5"
  },
  "language_info": {
   "codemirror_mode": {
    "name": "ipython",
    "version": 3
   },
   "file_extension": ".py",
   "mimetype": "text/x-python",
   "name": "python",
   "nbconvert_exporter": "python",
   "pygments_lexer": "ipython3",
   "version": "3.12.5"
  }
 },
 "nbformat": 4,
 "nbformat_minor": 5
}
